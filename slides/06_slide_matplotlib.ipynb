{
 "cells": [
  {
   "cell_type": "markdown",
   "metadata": {},
   "source": [
    "# Interface graphique sous `matplotlib`\n",
    "\n",
    "- `matplotlib` propose une interface relativement rudimentaire pour interagir avec\n",
    "  les objets graphiques\n",
    "\n",
    "- Parmi les *widgets* ou objets de contrôle\n",
    "  - **`Cursor/MultiCursor`** permet l'affichage des valeurs dans la barre d'état\n",
    "  - **`Slider`** permet la variation d'une quantité numérique\n",
    "  - **`Button`** de générer une action définie par l'utilisateur lors du clic souris\n",
    "  - **`CheckButtons/RadioButtons`** permet l'activation/désactivation de fonctionnalités graphiques\n",
    "  - `Selector`, `Menu`,...\n",
    "\n",
    "- Importation des *widgets*\n",
    "  ```python\n",
    "    from matplotlib.widgets import Cursor, Slider, Button\n",
    "  ```\n"
   ]
  },
  {
   "cell_type": "markdown",
   "metadata": {},
   "source": [
    "<div class=\"alert alert-block alert-danger\">\n",
    "Pour pouvoir utiliser les widgets dans un notebook jupyter, il faut utiliser la librairie <code>ipympl</code> : <a href=\"https://github.com/matplotlib/ipympl\">https://github.com/matplotlib/ipympl</a> \n",
    "</div>"
   ]
  },
  {
   "cell_type": "markdown",
   "metadata": {},
   "source": [
    "Vous pouvez installer `ipympl` directement depuis votre notebook en tapant dans une cellule la commande suivante\n",
    "\n",
    "```python\n",
    "%pip install ipympl\n",
    "```\n",
    "\n",
    "Toutefois si vous avez une version de `jupyter lab` antérieure à la version 3.0, le processus d'installation est légèrement plus compliqué (*cf.* https://github.com/matplotlib/ipympl#use-in-jupyterlab). Pour information, `ipympl` est déjà installé sur https://jupytercloud.lal.in2p3.fr.\n",
    "\n",
    "Enfin, pour exploiter les *widgets*, il faut nécessairement que l'entête du bloc source débute par \n",
    "\n",
    "```python\n",
    "%matplotlib widget\n",
    "```"
   ]
  },
  {
   "cell_type": "markdown",
   "metadata": {},
   "source": [
    "## Utilisation de curseurs"
   ]
  },
  {
   "cell_type": "code",
   "execution_count": null,
   "metadata": {},
   "outputs": [],
   "source": [
    "%matplotlib widget\n",
    "import numpy as np\n",
    "\n",
    "x, y = np.random.rand(2, 100)\n",
    "\n",
    "import matplotlib.pyplot as plt\n",
    "\n",
    "plt.figure(figsize=(6, 6))\n",
    "plt.scatter(x, y, c=x * y, alpha=0.5)\n",
    "\n",
    "from matplotlib.widgets import Cursor\n",
    "\n",
    "cursor = Cursor(plt.gca(), color=\"red\", lw=2)"
   ]
  },
  {
   "cell_type": "markdown",
   "metadata": {},
   "source": [
    "Vous pouvez également \"externaliser\" la fenêtre graphique en choisissant un autre GUI tel que `qt` (sous linux) ou `osx` (sous MacOS) mais **vous devez relancer le kernel Jupyter**."
   ]
  },
  {
   "cell_type": "code",
   "execution_count": null,
   "metadata": {},
   "outputs": [],
   "source": [
    "%matplotlib qt\n",
    "import numpy as np\n",
    "\n",
    "x, y = np.random.rand(2, 100)\n",
    "\n",
    "import matplotlib.pyplot as plt\n",
    "\n",
    "plt.figure(figsize=(6, 6))\n",
    "plt.scatter(x, y, c=x * y, alpha=0.5)\n",
    "\n",
    "from matplotlib.widgets import Cursor\n",
    "\n",
    "cursor = Cursor(plt.gca(), color=\"red\", lw=2)"
   ]
  },
  {
   "cell_type": "markdown",
   "metadata": {},
   "source": [
    "## Utilisation de plusieurs curseurs"
   ]
  },
  {
   "cell_type": "code",
   "execution_count": null,
   "metadata": {},
   "outputs": [],
   "source": [
    "%matplotlib widget\n",
    "\n",
    "t = np.arange(0.0, np.pi, 0.01)\n",
    "\n",
    "fig, ax = plt.subplots(2, 1, sharex=\"col\")\n",
    "plt.subplots_adjust(hspace=0)\n",
    "ax[0].plot(t, np.sin(2 * np.pi * t))\n",
    "ax[1].plot(t, np.sin(4 * np.pi * t))\n",
    "\n",
    "from matplotlib.widgets import MultiCursor\n",
    "\n",
    "multi = MultiCursor(fig.canvas, (ax[0], ax[1]), color=\"red\", lw=2)"
   ]
  },
  {
   "cell_type": "markdown",
   "metadata": {},
   "source": [
    "## Utilisation de *sliders*"
   ]
  },
  {
   "cell_type": "code",
   "execution_count": null,
   "metadata": {},
   "outputs": [],
   "source": [
    "%matplotlib widget\n",
    "\n",
    "a0, f0 = 5, 1\n",
    "t = np.arange(0.0, np.pi, 0.01)\n",
    "\n",
    "\n",
    "def signal(t, a=a0, f=f0):\n",
    "    return a * np.sin(2 * np.pi * f * t)\n",
    "\n",
    "\n",
    "fig, ax = plt.subplots()\n",
    "lines, *trash = ax.plot(t, signal(t))"
   ]
  },
  {
   "cell_type": "code",
   "execution_count": null,
   "metadata": {},
   "outputs": [],
   "source": [
    "axfreq = fig.add_axes([0.25, 0.10, 0.65, 0.03], label=\"axfreq\")\n",
    "axamp = fig.add_axes([0.25, 0.15, 0.65, 0.03], label=\"axamp\")"
   ]
  },
  {
   "cell_type": "code",
   "execution_count": null,
   "metadata": {},
   "outputs": [],
   "source": [
    "fig.subplots_adjust(bottom=0.25)"
   ]
  },
  {
   "cell_type": "code",
   "execution_count": null,
   "metadata": {},
   "outputs": [],
   "source": [
    "from matplotlib.widgets import Slider\n",
    "\n",
    "sfreq = Slider(axfreq, \"Fréquence\", 0.1, 30.0, valinit=f0)\n",
    "samp = Slider(axamp, \"Amplitude\", 0.1, 10.0, valinit=a0)"
   ]
  },
  {
   "cell_type": "code",
   "execution_count": null,
   "metadata": {},
   "outputs": [],
   "source": [
    "def update(val):\n",
    "    lines.set_ydata(signal(t, samp.val, sfreq.val))\n",
    "    fig.canvas.draw_idle()\n",
    "\n",
    "\n",
    "sfreq.on_changed(update)\n",
    "samp.on_changed(update);"
   ]
  },
  {
   "cell_type": "markdown",
   "metadata": {},
   "source": [
    "## Utilisation de boutons"
   ]
  },
  {
   "cell_type": "code",
   "execution_count": null,
   "metadata": {},
   "outputs": [],
   "source": [
    "from matplotlib.widgets import Button\n",
    "\n",
    "axreset = fig.add_axes([0.8, 0.025, 0.1, 0.04], label=\"axreset\")\n",
    "button = Button(axreset, \"Reset\")\n",
    "\n",
    "\n",
    "def reset(event):\n",
    "    sfreq.reset()\n",
    "    samp.reset()\n",
    "\n",
    "\n",
    "button.on_clicked(reset)\n",
    "fig.canvas"
   ]
  },
  {
   "cell_type": "code",
   "execution_count": null,
   "metadata": {},
   "outputs": [],
   "source": [
    "from matplotlib.widgets import RadioButtons\n",
    "\n",
    "axcolor = fig.add_axes([0.025, 0.5, 0.15, 0.15], label=\"axcolor\")\n",
    "fig.subplots_adjust(left=0.25)\n",
    "radio = RadioButtons(axcolor, (\"red\", \"blue\", \"green\"), active=1)\n",
    "\n",
    "\n",
    "def update_color(label):\n",
    "    lines.set_color(label)\n",
    "    fig.canvas.draw_idle()\n",
    "\n",
    "\n",
    "radio.on_clicked(update_color)\n",
    "fig.canvas"
   ]
  },
  {
   "cell_type": "markdown",
   "metadata": {},
   "source": [
    "## Interface graphique sous `matplotlib`\n",
    "\n",
    "- API Documentation : http://matplotlib.org/api/widgets_api.html\n",
    "\n",
    "- Exemples & démo. : http://matplotlib.org/examples/widgets/index.html\n",
    "\n",
    "- Pour rappel, les exemples proposés à la préparation à l'aggrégation à Montrouge : http://cdrom2016.agregation-physique.org/index.php/programmes-informatiques/programme-python"
   ]
  },
  {
   "cell_type": "markdown",
   "metadata": {},
   "source": [
    "## Interaction avec `ipywidgets`"
   ]
  },
  {
   "cell_type": "code",
   "execution_count": null,
   "metadata": {},
   "outputs": [],
   "source": [
    "%matplotlib inline\n",
    "import ipywidgets as widgets\n",
    "\n",
    "\n",
    "def update(a, f, c):\n",
    "    plt.plot(t, signal(t, a, f), color=c)\n",
    "\n",
    "\n",
    "amplitude = widgets.FloatSlider(description=\"amplitude\", min=0, max=10, step=0.1, value=a0)\n",
    "frequence = widgets.FloatSlider(description=\"fréquence\", min=0, max=30, step=0.1, value=f0)\n",
    "colors = widgets.RadioButtons(options=[\"red\", \"blue\", \"green\"], description=\"color\")\n",
    "widgets.interactive(update, a=amplitude, f=frequence, c=colors)"
   ]
  },
  {
   "cell_type": "code",
   "execution_count": null,
   "metadata": {},
   "outputs": [],
   "source": [
    "colors = widgets.ColorPicker(description=\"Pick a color\", value=\"blue\")\n",
    "widgets.interactive(update, a=amplitude, f=frequence, c=colors)"
   ]
  },
  {
   "cell_type": "markdown",
   "metadata": {},
   "source": [
    "Pour plus d'informations https://ipywidgets.readthedocs.io"
   ]
  }
 ],
 "metadata": {
  "kernelspec": {
   "display_name": "Python 3",
   "language": "python",
   "name": "python3"
  },
  "language_info": {
   "codemirror_mode": {
    "name": "ipython",
    "version": 3
   },
   "file_extension": ".py",
   "mimetype": "text/x-python",
   "name": "python",
   "nbconvert_exporter": "python",
   "pygments_lexer": "ipython3",
   "version": "3.9.5"
  },
  "toc-autonumbering": true
 },
 "nbformat": 4,
 "nbformat_minor": 4
}
