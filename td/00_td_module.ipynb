{
 "cells": [
  {
   "cell_type": "markdown",
   "id": "d861662b-27a3-4318-a8bf-9ef944a1cb52",
   "metadata": {},
   "source": [
    "# Modules et Programmation Orientée Objet"
   ]
  },
  {
   "cell_type": "markdown",
   "id": "abea4f29-c41a-45fa-b546-d142d5435304",
   "metadata": {},
   "source": [
    "## Modularité\n",
    "\n",
    "- Dans un fichier intitulé `euler_project.py`, reprenez les différentes solutions aux projets Euler résolus jusqu'à présent et isoler ces solutions dans des fonctions dont le nom correspondra au numéro du projet préfixé du terme `euler`. Documenter chacune de ces fonctions puis résoudre les 587 problèmes proposés.\n",
    "\n",
    "- Exécuter le fichier `euler_project.py` à l'aide de la commande `%run euler_project.py`. Tester les différentes fonctions puis construire un dictionnaire qui associera le numéro du projet à la fonction idoine. Demander finalement à l'utilisateur quel numéro de projet résoudre, s'assurer que le projet a une solution et proposer cette solution.\n",
    "\n",
    "- Modifier le fichier `euler_project.py`, créé lors du précédent TD, de telle sorte à ce que l'interaction avec l'utilisateur (saisie du numéro de projet à afficher) ne soit effective que lorsque le fichier est exécuté en tant que script.\n",
    "\n",
    "- Faire en sorte que le fichier `euler_project.py` puisse être charger en tant que\n",
    "  module et tester chaque fonction sans intervention de l'utilisateur."
   ]
  },
  {
   "cell_type": "markdown",
   "id": "1f809e4c-9eb8-4b15-a822-2a334fca5936",
   "metadata": {
    "tags": [
     "correction"
    ]
   },
   "source": [
    "```python\n",
    "\"\"\"\n",
    "Module for Euler projects\n",
    "\n",
    "This file holds several solution of Euler project\n",
    "\"\"\"\n",
    "\n",
    "\n",
    "def euler001(n=None):\n",
    "    \"\"\"Solution for Euler project n°1\n",
    "\n",
    "    Find the sum of all the multiples of 3 or 5 below n.\n",
    "\n",
    "    \"\"\"\n",
    "    if n == None:\n",
    "        n = int(input(\"Give the n value : \"))\n",
    "    return sum([x for x in range(n) if x % 3 == 0 or x % 5 == 0])\n",
    "\n",
    "\n",
    "def euler002(n=None):\n",
    "    \"\"\"Solution for Euler project n°2\n",
    "\n",
    "    By considering the terms in the Fibonacci sequence whose values do not\n",
    "    exceed a given value, find the sum of the even-valued terms.\n",
    "\n",
    "    \"\"\"\n",
    "    if n == None:\n",
    "        n = int(input(\"Give the n value : \"))\n",
    "    f, g, somme = 1, 1, 0\n",
    "    while f < n:\n",
    "        if f % 2 == 0:\n",
    "            somme += f\n",
    "        f, g = g, f + g\n",
    "    return somme\n",
    "\n",
    "\n",
    "def euler006(n=None):\n",
    "    \"\"\"Solution of Euler project n°6\n",
    "\n",
    "    Find the difference between the sum of the squares of the first n natural\n",
    "    numbers and the square of the sum.\n",
    "\n",
    "    \"\"\"\n",
    "    if n == None:\n",
    "        n = int(input(\"Give the n value : \"))\n",
    "    r = range(1, n + 1)\n",
    "    return sum(r) ** 2 - sum([x ** 2 for x in r])\n",
    "\n",
    "\n",
    "def euler016(n=None):\n",
    "    \"\"\"Solution for Euler project n°16\n",
    "\n",
    "    What is the sum of the digits of the number 2**n?\n",
    "\n",
    "    \"\"\"\n",
    "    if n == None:\n",
    "        n = int(input(\"Give the n value : \"))\n",
    "    somme = 0\n",
    "    for i in str(2 ** n):\n",
    "        somme += int(i)\n",
    "    return somme\n",
    "\n",
    "\n",
    "def euler025(n=None):\n",
    "    \"\"\"Solution for Euler project n°25\n",
    "\n",
    "    What is the index of the first term in the Fibonacci sequence to contain n digits?\n",
    "\n",
    "    \"\"\"\n",
    "    if n == None:\n",
    "        n = int(input(\"Give the n value : \"))\n",
    "    f, g, i = 1, 1, 0\n",
    "    while f < 10 ** n:\n",
    "        f, g, i = g, f + g, i + 1\n",
    "    return i\n",
    "\n",
    "\n",
    "projects = {1: euler001, 2: euler002, 6: euler006, 16: euler016, 25: euler025}\n",
    "\n",
    "if __name__ == \"__main__\":\n",
    "    i = 0\n",
    "    while True:\n",
    "        i = int(input(\"Project number ? \"))\n",
    "        if i not in projects.keys():\n",
    "            print(f\"Project n°{i} not solved yet\")\n",
    "            continue\n",
    "        print(projects[i]())\n",
    "        break\n",
    "\n",
    "```"
   ]
  },
  {
   "cell_type": "code",
   "execution_count": 7,
   "id": "e56fe7ad-a27a-4537-9587-cef6cc86424d",
   "metadata": {
    "tags": [
     "correction"
    ]
   },
   "outputs": [
    {
     "name": "stdout",
     "output_type": "stream",
     "text": [
      "Testing Euler project n°1 with value n=860\n",
      "-> Solution = 171858\n",
      "Testing Euler project n°2 with value n=184\n",
      "-> Solution = 188\n",
      "Testing Euler project n°6 with value n=663\n",
      "-> Solution = 48353688812\n",
      "Testing Euler project n°16 with value n=125\n",
      "-> Solution = 167\n",
      "Testing Euler project n°25 with value n=805\n",
      "-> Solution = 3853\n"
     ]
    }
   ],
   "source": [
    "from scripts import euler_project as ep\n",
    "\n",
    "import random\n",
    "\n",
    "for key, fcn in ep.projects.items():\n",
    "    n = random.randint(0, 1000)\n",
    "    print(f\"Testing Euler project n°{key} with value n={n}\")\n",
    "    print(f\"-> Solution = {fcn(n)}\")"
   ]
  },
  {
   "cell_type": "markdown",
   "id": "25b2bede-d90b-4087-8d2a-37825a9bbca2",
   "metadata": {},
   "source": [
    "## Objets `python`"
   ]
  },
  {
   "cell_type": "markdown",
   "id": "2f840c32-a015-4070-b4e0-6cdcb5da11a5",
   "metadata": {},
   "source": [
    "1) Classe `Particle`\n",
    "   1) Créer une classe/objet `Particle` qui prendra\n",
    "      pour attributs, le nom de la particule, sa masse exprimée en eV et sa\n",
    "      charge électrique. La méthode d'initialisation `__init__` permettra de\n",
    "      fournir des valeurs par défaut à ces trois attributs tout en autorisant\n",
    "      l'utilisateur à initialiser ces attributs.\n",
    "\n",
    "   2) Ajouter une méthode `dump` permettant d'afficher les valeurs des attributs\n",
    "      et concevoir un programme *test* qui créera diverses instances\n",
    "      de type `Particle` en les stockant dans une liste puis affichera chacune de\n",
    "      ces instances.\n",
    "\n",
    "   3) Renommer la méthode `dump` en `__str__` et faire en sorte qu'elle retourne une\n",
    "      chaîne de caractères. Tester la fonction `print` sur un objet de type\n",
    "      `Particle`."
   ]
  },
  {
   "cell_type": "code",
   "execution_count": 10,
   "id": "bb7b0795-1ebd-4b90-b342-fecb89798f8d",
   "metadata": {
    "tags": [
     "correction"
    ]
   },
   "outputs": [
    {
     "name": "stdout",
     "output_type": "stream",
     "text": [
      "Particle name electron, mass = 511000.0 eV and electric charge = -1.6e-19 C\n",
      "Particle name muon, mass = 155000000.0 eV and electric charge = -1.6e-19 C\n",
      "Particle name proton, mass = 939000000.0 eV and electric charge = 1.6e-19 C\n"
     ]
    }
   ],
   "source": [
    "class Particle:\n",
    "    def __init__(self, name=None, mass=None, charge=None):\n",
    "        self.name = name\n",
    "        self.mass = mass\n",
    "        self.charge = charge\n",
    "\n",
    "    def __str__(self):\n",
    "        return f\"Particle name {self.name}, mass = {self.mass} eV and electric charge = {self.charge} C\"\n",
    "\n",
    "\n",
    "particles = []\n",
    "particles.append(Particle(\"electron\", 511e3, -1.6e-19))\n",
    "particles.append(Particle(\"muon\", 155e6, -1.6e-19))\n",
    "particles.append(Particle(\"proton\", 939e6, +1.6e-19))\n",
    "\n",
    "for p in particles:\n",
    "    print(p)"
   ]
  },
  {
   "cell_type": "markdown",
   "id": "635c772a-080e-4357-8b15-a926aed6a98f",
   "metadata": {},
   "source": [
    "2) Classe `Point`\n",
    "   1) Créer une classe `Point` dont les attributs seront les valeurs des coordonnées cartésiennes $x$ et $y$. Surcharger la méthode `__str__` afin d'afficher ces deux informations. Pour tester l'ensemble, on créera un programme *test* dans lequel diverses instances de type `Point` seront générées.\n",
    "\n",
    "   2) Définir une nouvelle méthode appelé `__add__` qui retournera un nouvel objet de type `Point`, résultat de la somme de deux instances de type `Point`.\n",
    "\n",
    "   3) Afficher le résultat de la somme de deux objets `Point` *via* la fonction `print`.\n",
    "\n",
    "   4) Créer une nouvelle classe `Vector2D` dont les attributs seront deux objets de type `Point`. Définir une méthode de `Vector2D` qui retournera la norme du vecteur.\n",
    "\n",
    "   5) Définir une méthode de `Vector2D` qui permettra d'afficher les coordonnées des deux points constituant le vecteur et que l'on pourra utiliser par le biais de la fonction `print`."
   ]
  },
  {
   "cell_type": "code",
   "execution_count": 11,
   "id": "9f339c72-1c1f-4f1a-9f43-4cfef21f4b64",
   "metadata": {
    "tags": [
     "correction"
    ]
   },
   "outputs": [],
   "source": [
    "class Point:\n",
    "    def __init__(self, x=None, y=None):\n",
    "        self.x = x\n",
    "        self.y = y\n",
    "\n",
    "    def __str__(self):\n",
    "        return f\"(x, y) = ({self.x}, {self.y})\"\n",
    "\n",
    "    def __add__(self, other):\n",
    "        return Point(self.x + other.x, self.y + other.y)"
   ]
  },
  {
   "cell_type": "code",
   "execution_count": 12,
   "id": "adb07a59-d448-4ff7-9a98-b6bafd34df54",
   "metadata": {
    "tags": [
     "correction"
    ]
   },
   "outputs": [],
   "source": [
    "class Vector2D:\n",
    "    def __init__(self, point1=None, point2=None):\n",
    "        self.point1 = point1\n",
    "        self.point2 = point2\n",
    "\n",
    "    def norm(self):\n",
    "        from math import hypot\n",
    "\n",
    "        return hypot(self.point1.x - self.point2.x, self.point1.y - self.point2.y)\n",
    "\n",
    "    def __str__(self):\n",
    "        return f\"point1 : {self.point1}, point2 : {self.point2}\""
   ]
  },
  {
   "cell_type": "code",
   "execution_count": 13,
   "id": "9ad84018-52c6-47c0-8643-4c87c5b017e5",
   "metadata": {
    "tags": [
     "correction"
    ]
   },
   "outputs": [
    {
     "name": "stdout",
     "output_type": "stream",
     "text": [
      "(x, y) = (3, 4)\n",
      "(x, y) = (2, 7)\n",
      "(x, y) = (5, 11)\n",
      "point1 : (x, y) = (3, 4), point2 : (x, y) = (2, 7)\n",
      "norm = 3.1622776601683795\n"
     ]
    }
   ],
   "source": [
    "point1 = Point(3,4)\n",
    "point2 = Point(2,7)\n",
    "point3 = point1 + point2\n",
    "print(point1)\n",
    "print(point2)\n",
    "print(point3)\n",
    "\n",
    "vector = Vector2D(point1, point2)\n",
    "print(vector)\n",
    "print(f\"norm = {vector.norm()}\")"
   ]
  }
 ],
 "metadata": {
  "kernelspec": {
   "display_name": "Python 3 (ipykernel)",
   "language": "python",
   "name": "python3"
  },
  "language_info": {
   "codemirror_mode": {
    "name": "ipython",
    "version": 3
   },
   "file_extension": ".py",
   "mimetype": "text/x-python",
   "name": "python",
   "nbconvert_exporter": "python",
   "pygments_lexer": "ipython3",
   "version": "3.10.2"
  }
 },
 "nbformat": 4,
 "nbformat_minor": 5
}
