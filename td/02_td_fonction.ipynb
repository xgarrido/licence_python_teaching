{
 "cells": [
  {
   "cell_type": "code",
   "execution_count": 1,
   "metadata": {
    "tags": [
     "skip"
    ]
   },
   "outputs": [],
   "source": [
    "def input(s=None):\n",
    "    if s == \"Saisissez un entier ?\" or s == \"Quelle est la valeur de N ?\":\n",
    "        ans = 666\n",
    "    elif s == \"Saisissez votre phrase :\":\n",
    "        ans = \"Noë est méchant, si Noë était un médicament, ce serait un suppositoire\"\n",
    "    else:\n",
    "        ans = \"Simpson, Homer, 36\"\n",
    "\n",
    "    if s is None:\n",
    "        ans += \", $\"\n",
    "        print(ans)\n",
    "    else:\n",
    "        print(s, ans)\n",
    "    return ans"
   ]
  },
  {
   "cell_type": "markdown",
   "metadata": {},
   "source": [
    "# Python et ses fondamentaux (suite)"
   ]
  },
  {
   "cell_type": "markdown",
   "metadata": {},
   "source": [
    "<div class=\"alert alert-block alert-danger\">\n",
    "    Si vous utilisez ce notebook via mybinder, pensez à télécharger votre fichier à la fin de la séance afin de conserver une trace de votre travail !\n",
    "</div>"
   ]
  },
  {
   "cell_type": "markdown",
   "metadata": {},
   "source": [
    "## Structure conditionnelle, boucles et autres réjouissances"
   ]
  },
  {
   "cell_type": "markdown",
   "metadata": {},
   "source": [
    "- En fonction d'une valeur entière saisie par l'utilisateur (on utilisera à cette fin la fonction `input` de Python et on prendra bien garde à convertir le résultat en entier), afficher l'un des messages suivants \n",
    "\n",
    "   - Ce nombre est pair\n",
    "   - Ce nombre est impair, mais est multiple de 3\n",
    "   - Ce nombre n'est ni pair ni multiple de 3"
   ]
  },
  {
   "cell_type": "code",
   "execution_count": 2,
   "metadata": {
    "tags": [
     "correction"
    ]
   },
   "outputs": [
    {
     "name": "stdout",
     "output_type": "stream",
     "text": [
      "Saisissez un entier ? 666\n",
      "Ce nombre est pair\n"
     ]
    }
   ],
   "source": [
    "N = int(input(\"Saisissez un entier ?\"))\n",
    "\n",
    "if N % 2 == 0:\n",
    "    print(\"Ce nombre est pair\")\n",
    "elif N % 3 == 0:\n",
    "    print(\"Ce nombre est impair, mais est multiple de 3\")\n",
    "else:\n",
    "    print(\"Ce nombre n'est ni pair ni multiple de 3\")"
   ]
  },
  {
   "cell_type": "markdown",
   "metadata": {},
   "source": [
    "- Dénombrer le nombre de voyelles dans une phrase que l'utilisateur saisira."
   ]
  },
  {
   "cell_type": "code",
   "execution_count": 3,
   "metadata": {
    "tags": [
     "correction"
    ]
   },
   "outputs": [
    {
     "name": "stdout",
     "output_type": "stream",
     "text": [
      "Saisissez votre phrase : Noë est méchant, si Noë était un médicament, ce serait un suppositoire\n",
      "Nombre de voyelles = 27\n"
     ]
    }
   ],
   "source": [
    "voyelles = \"aàâeéèëioôuùy\"\n",
    "phrase = input(\"Saisissez votre phrase :\")\n",
    "count = 0\n",
    "for c in phrase:\n",
    "    if c in voyelles:\n",
    "        count += 1\n",
    "print(\"Nombre de voyelles =\", count)"
   ]
  },
  {
   "cell_type": "markdown",
   "metadata": {},
   "source": [
    "- Projet Euler n°[1](https://projecteuler.net/problem=1): Calculer la somme des entiers divisibles par 3 ou par 5 dans l'intervalle $[0,N[$ où $N$ sera fourni par l'utilisateur."
   ]
  },
  {
   "cell_type": "code",
   "execution_count": 4,
   "metadata": {
    "tags": [
     "correction"
    ]
   },
   "outputs": [
    {
     "name": "stdout",
     "output_type": "stream",
     "text": [
      "Quelle est la valeur de N ? 666\n",
      "Somme = 103298\n"
     ]
    }
   ],
   "source": [
    "N = int(input(\"Quelle est la valeur de N ?\"))\n",
    "somme = 0\n",
    "for i in range(0, N):\n",
    "    if i % 3 == 0 or i % 5 == 0:\n",
    "        somme += i\n",
    "print(\"Somme =\", somme)"
   ]
  },
  {
   "cell_type": "markdown",
   "metadata": {},
   "source": [
    "- Projet Euler n°[9](https://projecteuler.net/problem=9): Un triplet de Pythagore est un jeu de trois valeurs entières naturelles $a<b<c$ telles que \n",
    "    \n",
    "    $$a^2+b^2=c^2$$ \n",
    "\n",
    "    Par exemple, $3^2 + 4^2 = 9 + 16 = 25 = 5^2$. Déterminer l'unique triplet $(a, b, c)$ tel que $a+b+c=1000$."
   ]
  },
  {
   "cell_type": "code",
   "execution_count": 5,
   "metadata": {
    "tags": [
     "correction"
    ]
   },
   "outputs": [
    {
     "name": "stdout",
     "output_type": "stream",
     "text": [
      "(a, b, c) = (200, 375, 425)\n"
     ]
    }
   ],
   "source": [
    "somme = 1000\n",
    "for a in range(1, somme):\n",
    "    for b in range(a + 1, somme):\n",
    "        c = somme - a - b\n",
    "        if a ** 2 + b ** 2 == c ** 2:\n",
    "            print(f\"(a, b, c) = ({a}, {b}, {c})\")"
   ]
  },
  {
   "cell_type": "markdown",
   "metadata": {},
   "source": [
    "- Projet Euler n°[16](https://projecteuler.net/problem=16): Donner la somme des chiffres de la représentation décimale de $2^N$ où $N$ est un entier naturel fourni par l'utilisateur. Faire de même avec $N!$ (Projet Euler n°[20](https://projecteuler.net/problem=20))."
   ]
  },
  {
   "cell_type": "code",
   "execution_count": 6,
   "metadata": {
    "tags": [
     "correction"
    ]
   },
   "outputs": [
    {
     "name": "stdout",
     "output_type": "stream",
     "text": [
      "Quelle est la valeur de N ? 666\n",
      "Somme = 856\n"
     ]
    }
   ],
   "source": [
    "N = int(input(\"Quelle est la valeur de N ?\"))\n",
    "somme = 0\n",
    "for i in str(2 ** N):\n",
    "    somme += int(i)\n",
    "print(\"Somme =\", somme)"
   ]
  },
  {
   "cell_type": "code",
   "execution_count": 7,
   "metadata": {
    "tags": [
     "correction"
    ]
   },
   "outputs": [
    {
     "name": "stdout",
     "output_type": "stream",
     "text": [
      "Somme = 6327\n"
     ]
    }
   ],
   "source": [
    "import math\n",
    "\n",
    "somme = 0\n",
    "for i in str(math.factorial(N)):\n",
    "    somme += int(i)\n",
    "print(\"Somme =\", somme)"
   ]
  },
  {
   "cell_type": "markdown",
   "metadata": {},
   "source": [
    "- La suite de Fibonacci est définie de la façon suivante\n",
    "\n",
    "    \\begin{align*}\n",
    "       \\mathcal{F}_1 &= 1 \\\\\n",
    "       \\mathcal{F}_2 &= 1 \\\\\n",
    "       ...\\\\\n",
    "       \\mathcal{F}_n &= \\mathcal{F}_{n-2}+\\mathcal{F}_{n-1}\n",
    "     \\end{align*}\n",
    "\n",
    "    1. Calculer le résultat de cette suite pour un ordre $n$ donné par l'utilisateur. On essaiera en particulier de tirer profit de l'**affectation parallèle** des variables dans Python.\n",
    "    2. Projet Euler n°[2](https://projecteuler.net/problem=2): Calculer la somme des termes de Fibonacci pairs jusqu'à une valeur $N$ donnée par l'utilisateur.\n",
    "    3. Projet Euler n°[25](https://projecteuler.net/problem=25): Déterminer l'indice $n$ du premier terme $\\mathcal{F}_n$ dont la valeur contient plus de 1000 chiffres."
   ]
  },
  {
   "cell_type": "code",
   "execution_count": 8,
   "metadata": {
    "tags": [
     "correction"
    ]
   },
   "outputs": [
    {
     "name": "stdout",
     "output_type": "stream",
     "text": [
      "Quelle est la valeur de N ? 666\n",
      "F(666) = 6859356963880484413875401302176431788073214234535725264860437720157972142108894511264898366145528622543082646626140527097739556699078708088\n"
     ]
    }
   ],
   "source": [
    "N = int(input(\"Quelle est la valeur de N ?\"))\n",
    "f = g = 1\n",
    "for i in range(0, N - 1):\n",
    "    f, g = g, f + g\n",
    "print(f\"F({N}) = {f}\")"
   ]
  },
  {
   "cell_type": "code",
   "execution_count": 9,
   "metadata": {
    "tags": [
     "correction"
    ]
   },
   "outputs": [
    {
     "name": "stdout",
     "output_type": "stream",
     "text": [
      "Quelle est la valeur de N ? 666\n",
      "Somme = 798\n"
     ]
    }
   ],
   "source": [
    "N = int(input(\"Quelle est la valeur de N ?\"))\n",
    "f = g = 1\n",
    "somme = 0\n",
    "while f < N - 1:\n",
    "    if f % 2 == 0:\n",
    "        somme += f\n",
    "    f, g = g, f + g\n",
    "print(\"Somme =\", somme)"
   ]
  },
  {
   "cell_type": "code",
   "execution_count": 10,
   "metadata": {
    "tags": [
     "correction"
    ]
   },
   "outputs": [
    {
     "name": "stdout",
     "output_type": "stream",
     "text": [
      "n = 4786\n"
     ]
    }
   ],
   "source": [
    "f = g = 1\n",
    "n = 0\n",
    "while f < 10 ** 1000:\n",
    "    f, g, n = g, f + g, n + 1\n",
    "print(\"n =\", n)"
   ]
  },
  {
   "cell_type": "markdown",
   "metadata": {},
   "source": [
    "- La formule de Wallis permet de calculer la valeur de $\\pi$ *via* l'expression\n",
    "\n",
    "     \\begin{align*}\n",
    "       \\pi = 2\\prod_{n=1}^\\infty\\frac{4n^2}{4n^2-1}\n",
    "     \\end{align*}\n",
    "\n",
    "    Déterminer le nombre d'itérations $n$ nécessaires pour que la valeur de $\\pi$ soit correcte jusqu'à la 7<sup>ème</sup> décimale."
   ]
  },
  {
   "cell_type": "code",
   "execution_count": 11,
   "metadata": {
    "tags": [
     "correction"
    ]
   },
   "outputs": [
    {
     "name": "stdout",
     "output_type": "stream",
     "text": [
      "pi = 3.1415925535897995 pour 7851419 itérations\n"
     ]
    }
   ],
   "source": [
    "import math\n",
    "\n",
    "i = p = 1\n",
    "\n",
    "while abs(2 * p - math.pi) > 1e-7:\n",
    "    p *= 4 * i ** 2 / (4 * i ** 2 - 1)\n",
    "    i += 1\n",
    "print(f\"pi = {2*p} pour {i} itérations\")"
   ]
  },
  {
   "cell_type": "markdown",
   "metadata": {},
   "source": [
    "---"
   ]
  },
  {
   "cell_type": "markdown",
   "metadata": {},
   "source": [
    "## Utilisation de fonction et des *containers* `Python`"
   ]
  },
  {
   "cell_type": "markdown",
   "metadata": {},
   "source": [
    "- Reprendre le Projet Euler n°[1](https://projecteuler.net/problem=1) dont l'objet est le calcul de la somme des entiers divisibles par 3 ou par 5 dans l'intervalle $[0,N[$ **en utilisant une liste établie \"en compréhension\"**. On s'aidera de la fonction intégrée `sum` pour calculer la somme."
   ]
  },
  {
   "cell_type": "code",
   "execution_count": 12,
   "metadata": {
    "tags": [
     "correction"
    ]
   },
   "outputs": [
    {
     "data": {
      "text/plain": [
       "103298"
      ]
     },
     "execution_count": 12,
     "metadata": {},
     "output_type": "execute_result"
    }
   ],
   "source": [
    "sum([x for x in range(N) if x % 3 == 0 or x % 5 == 0])"
   ]
  },
  {
   "cell_type": "markdown",
   "metadata": {},
   "source": [
    "- À l'aide du [crible d'Ératosthène](https://fr.wikipedia.org/wiki/Crible_d%27%C3%89ratosth%C3%A8ne), définir une fonction retournant l'ensemble des nombres premiers étant donné une valeur maximale. Calculer la somme des nombres premiers inférieurs à 2 millions (Projet Euler n°[10](https://projecteuler.net/problem=10))"
   ]
  },
  {
   "cell_type": "code",
   "execution_count": 1,
   "metadata": {
    "tags": [
     "correction"
    ]
   },
   "outputs": [
    {
     "data": {
      "text/plain": [
       "(1270607, 12272577818052)"
      ]
     },
     "execution_count": 1,
     "metadata": {},
     "output_type": "execute_result"
    }
   ],
   "source": [
    "def crible(N=2 * 10 ** 7):\n",
    "    is_prime = [True] * N\n",
    "    primes = []\n",
    "    for i in range(2, N):\n",
    "        if is_prime[i]:\n",
    "            primes += [i]\n",
    "            for j in range(i ** 2, N, i):\n",
    "                is_prime[j] = False\n",
    "    return primes\n",
    "\n",
    "\n",
    "primes = crible()\n",
    "len(primes), sum(primes)"
   ]
  },
  {
   "cell_type": "markdown",
   "metadata": {},
   "source": [
    "- Projet Euler n°[6](https://projecteuler.net/problem=6) : Calculer le résultat de la formule suivante\n",
    "     \n",
    "     $$\n",
    "       \\left(\\sum_{k=1}^nk\\right)^2 -\\sum_{k=1}^nk^2\n",
    "     $$\n",
    "     \n",
    "    où $n$ sera saisi par l'utilisateur. **On minimisera le nombre de lignes de code (typiquement $\\leq$ 2).**"
   ]
  },
  {
   "cell_type": "code",
   "execution_count": 14,
   "metadata": {
    "tags": [
     "correction"
    ]
   },
   "outputs": [
    {
     "name": "stdout",
     "output_type": "stream",
     "text": [
      "Quelle est la valeur de N ? 666\n"
     ]
    },
    {
     "data": {
      "text/plain": [
       "49234605000"
      ]
     },
     "execution_count": 14,
     "metadata": {},
     "output_type": "execute_result"
    }
   ],
   "source": [
    "N = int(input(\"Quelle est la valeur de N ?\"))\n",
    "\n",
    "r = range(1, N + 1)\n",
    "sum(r) ** 2 - sum([x ** 2 for x in r])"
   ]
  },
  {
   "cell_type": "markdown",
   "metadata": {},
   "source": [
    "- Projet Euler n°[34](https://projecteuler.net/problem=34): Afficher les entiers $i$ (avec $3\\leq i<10^6$) tels que la somme des factorielles de chacune de leurs décimales soit égal à l'entier lui-même (par exemple, $145 = 1!+4!+5!=1+24+120=145$) "
   ]
  },
  {
   "cell_type": "code",
   "execution_count": 15,
   "metadata": {
    "tags": [
     "correction"
    ]
   },
   "outputs": [
    {
     "name": "stdout",
     "output_type": "stream",
     "text": [
      "145\n",
      "40585\n"
     ]
    }
   ],
   "source": [
    "import math\n",
    "\n",
    "for i in range(3, 10 ** 6):\n",
    "    somme = sum([math.factorial(int(j)) for j in str(i)])\n",
    "    if somme == i:\n",
    "        print(i)"
   ]
  },
  {
   "cell_type": "markdown",
   "metadata": {},
   "source": [
    "- Stocker dans une liste tous les nombres inférieurs à 100 000 qui sont des palindromes. Déterminer leur nombre et leur somme. Construire une nouvelle liste contenant les nombres qui sont à la fois des palindromes en représentation décimale et en représentation binaire (Projet Euler n°[36](https://projecteuler.net/problem=36))."
   ]
  },
  {
   "cell_type": "code",
   "execution_count": 16,
   "metadata": {
    "tags": [
     "correction"
    ]
   },
   "outputs": [
    {
     "data": {
      "text/plain": [
       "(1099, 50045040)"
      ]
     },
     "execution_count": 16,
     "metadata": {},
     "output_type": "execute_result"
    }
   ],
   "source": [
    "l = [i for i in range(100000) if str(i) == str(i)[::-1]]\n",
    "len(l), sum(l)"
   ]
  },
  {
   "cell_type": "code",
   "execution_count": 17,
   "metadata": {
    "tags": [
     "correction"
    ]
   },
   "outputs": [
    {
     "name": "stdout",
     "output_type": "stream",
     "text": [
      "0 : 0\n",
      "1 : 1\n",
      "3 : 11\n",
      "5 : 101\n",
      "7 : 111\n",
      "9 : 1001\n",
      "33 : 100001\n",
      "99 : 1100011\n",
      "313 : 100111001\n",
      "585 : 1001001001\n",
      "717 : 1011001101\n",
      "7447 : 1110100010111\n",
      "9009 : 10001100110001\n",
      "15351 : 11101111110111\n",
      "32223 : 111110111011111\n",
      "39993 : 1001110000111001\n",
      "53235 : 1100111111110011\n",
      "53835 : 1101001001001011\n",
      "73737 : 10010000000001001\n"
     ]
    }
   ],
   "source": [
    "l2 = [\n",
    "    i\n",
    "    for i in range(100000)\n",
    "    if str(i) == str(i)[::-1] and \"{:b}\".format(i) == \"{:b}\".format(i)[::-1]\n",
    "]\n",
    "for i in l2:\n",
    "    print(\"{0} : {0:b}\".format(i))"
   ]
  },
  {
   "cell_type": "markdown",
   "metadata": {},
   "source": [
    "- On s'aidera, dans cet exercice, des méthodes `join` et `split` de la classe `str`. Demander à l'utilisateur de saisir une chaîne de caractères puis\n",
    "   1. renvoyer une chaîne telle qu'un lecteur l'aurait lue de droite à gauche\n",
    "   2. renvoyer une chaîne où le premier mot devient le dernier, le second mot devient l'avant dernier, ...\n",
    "   3. renvoyer la chaîne de caractères saisie sans les voyelles"
   ]
  },
  {
   "cell_type": "code",
   "execution_count": 18,
   "metadata": {
    "tags": [
     "correction"
    ]
   },
   "outputs": [
    {
     "name": "stdout",
     "output_type": "stream",
     "text": [
      "Saisissez votre phrase : Noë est méchant, si Noë était un médicament, ce serait un suppositoire\n",
      "1. eriotisoppus nu tiares ec ,tnemacidém nu tiaté ëoN is ,tnahcém tse ëoN\n",
      "2. suppositoire un serait ce médicament, un était Noë si méchant, est Noë\n",
      "3. N st mchnt, s N tt n mdcmnt, c srt n sppstr\n"
     ]
    }
   ],
   "source": [
    "s = input(\"Saisissez votre phrase :\")\n",
    "print(\"1.\", s[::-1])\n",
    "print(\"2.\", \" \".join(s.split()[::-1]))\n",
    "print(\"3.\", \"\".join(c for c in s if c.lower() not in voyelles))"
   ]
  },
  {
   "cell_type": "markdown",
   "metadata": {},
   "source": [
    "- Demander à l'utilisateur de saisir son nom, prénom et âge sur une seule ligne et en utilisant le caractère virgule comme séparateur de champ.\n",
    "\n",
    "   1. Présenter le résultat sous la forme \"Votre nom et prénom sont XXX XXX et vous êtes agé(e) de XXX\" en n'oubliant pas les majuscules aux noms propres.\n",
    "   2. Créer ensuite un dictionnaire indexé sur le nom de la personne et conservant son âge."
   ]
  },
  {
   "cell_type": "code",
   "execution_count": 19,
   "metadata": {
    "tags": [
     "correction"
    ]
   },
   "outputs": [
    {
     "name": "stdout",
     "output_type": "stream",
     "text": [
      "Veuillez saisir votre nom, prénom et âge en séparant chaque champ par une virgule Simpson, Homer, 36\n",
      "Votre nom et prénom sont Simpson Homer et vous êtes agé(e) de 36\n"
     ]
    }
   ],
   "source": [
    "s = input(\"Veuillez saisir votre nom, prénom et âge en séparant chaque champ par une virgule\")\n",
    "print(\"Votre nom et prénom sont {}{} et vous êtes agé(e) de{}\".format(*s.split(\",\")))"
   ]
  },
  {
   "cell_type": "code",
   "execution_count": 20,
   "metadata": {
    "tags": [
     "correction"
    ]
   },
   "outputs": [
    {
     "data": {
      "text/plain": [
       "{'Simpson': '36'}"
      ]
     },
     "execution_count": 20,
     "metadata": {},
     "output_type": "execute_result"
    }
   ],
   "source": [
    "l = s.replace(\" \", \"\").split(\",\")\n",
    "d = {l[0]: l[-1]}\n",
    "d"
   ]
  },
  {
   "cell_type": "markdown",
   "metadata": {},
   "source": [
    "- Demander à plusieurs utilisateurs de saisir nom, prénom et âge en utilisant toujours le caractère `,` comme séparateur de champ et stocker chacune des chaînes dans une liste. On terminera la saisie en entrant le caractère `$`. Construire un dictionnaire toujours indexé sur le nom mais qui conservera le prénom et l'âge de la personne. Présenter finalement chacune des entrées du dictionnaire sous une forme intelligible."
   ]
  },
  {
   "cell_type": "code",
   "execution_count": 21,
   "metadata": {
    "tags": [
     "correction"
    ]
   },
   "outputs": [
    {
     "name": "stdout",
     "output_type": "stream",
     "text": [
      "Tapez '$' pour quitter...\n",
      "Simpson, Homer, 36, $\n",
      "Nom: Simpson, prénom: Homer, âge: 36 ans\n"
     ]
    }
   ],
   "source": [
    "infos = {}\n",
    "while True:\n",
    "    print(\"Tapez '$' pour quitter...\")\n",
    "    chaine = input()\n",
    "    l = chaine.replace(\" \", \"\").split(\",\")\n",
    "    infos[l[0]] = (l[1], l[2])\n",
    "    if \"$\" in chaine:\n",
    "        break\n",
    "\n",
    "for key, values in infos.items():\n",
    "    print(f\"Nom: {key}, prénom: {values[0]}, âge: {values[1]} ans\")"
   ]
  }
 ],
 "metadata": {
  "kernelspec": {
   "display_name": "Python 3 (ipykernel)",
   "language": "python",
   "name": "python3"
  },
  "language_info": {
   "codemirror_mode": {
    "name": "ipython",
    "version": 3
   },
   "file_extension": ".py",
   "mimetype": "text/x-python",
   "name": "python",
   "nbconvert_exporter": "python",
   "pygments_lexer": "ipython3",
   "version": "3.10.2"
  },
  "toc-autonumbering": false,
  "widgets": {
   "application/vnd.jupyter.widget-state+json": {
    "state": {},
    "version_major": 2,
    "version_minor": 0
   }
  }
 },
 "nbformat": 4,
 "nbformat_minor": 4
}
