{
 "cells": [
  {
   "cell_type": "markdown",
   "metadata": {},
   "source": [
    "# Librairie `numpy`"
   ]
  },
  {
   "cell_type": "markdown",
   "metadata": {},
   "source": [
    "<div class=\"alert alert-block alert-danger\">\n",
    "    Si vous utilisez ce notebook via mybinder, pensez à télécharger votre fichier à la fin de la séance afin de conserver une trace de votre travail !\n",
    "</div>"
   ]
  },
  {
   "cell_type": "markdown",
   "metadata": {},
   "source": [
    "## Création/manipulation de tableaux"
   ]
  },
  {
   "cell_type": "markdown",
   "metadata": {},
   "source": [
    "- Créer un vecteur contenant les nombres entiers de 0 à 9 puis n'afficher que les valeurs paires de ce vecteur. Remplacer ensuite ces valeurs paires par -1."
   ]
  },
  {
   "cell_type": "code",
   "execution_count": 1,
   "metadata": {
    "tags": [
     "correction"
    ]
   },
   "outputs": [
    {
     "data": {
      "text/plain": [
       "array([ 0, -1,  2, -1,  4, -1,  6, -1,  8, -1])"
      ]
     },
     "execution_count": 1,
     "metadata": {},
     "output_type": "execute_result"
    }
   ],
   "source": [
    "import numpy as np\n",
    "\n",
    "v = np.arange(0, 10)\n",
    "v[v % 2 == 1] = -1\n",
    "v"
   ]
  },
  {
   "cell_type": "markdown",
   "metadata": {},
   "source": [
    "- Créer un vecteur de 20 valeurs flottantes réparties uniformément entre 1 et 50. À l'aide de la fonction `where` de `numpy`, remplacer les valeurs inférieures à 10 par 10 et celle supérieure à 30 par 30."
   ]
  },
  {
   "cell_type": "code",
   "execution_count": 2,
   "metadata": {
    "tags": [
     "correction"
    ]
   },
   "outputs": [
    {
     "data": {
      "text/plain": [
       "array([19.87946644, 30.        , 24.32723261, 30.        , 30.        ,\n",
       "       24.8401172 , 26.07445221, 24.59720805, 20.7934834 , 22.95513771,\n",
       "       10.6169086 , 12.96725926, 18.0177921 , 25.77778442, 22.32043914,\n",
       "       26.24181276, 30.        , 16.53115279, 22.04935484, 30.        ])"
      ]
     },
     "execution_count": 2,
     "metadata": {},
     "output_type": "execute_result"
    }
   ],
   "source": [
    "v = np.random.rand(20) * 50\n",
    "# v = np.random.uniform(1, 50, 20)\n",
    "v = np.where(v < 10, 10, np.where(v > 30, 30, v))\n",
    "v"
   ]
  },
  {
   "cell_type": "markdown",
   "metadata": {},
   "source": [
    "- Créer les matrices suivantes en respectant le type et en 3 opérations maximum\n",
    "\n",
    "    \\begin{align*}\n",
    "      \\begin{bmatrix}\n",
    "        1&1&1&1\\\\\n",
    "        1&1&1&1\\\\\n",
    "        1&1&1&2\\\\\n",
    "        1&6&1&1\\\\\n",
    "      \\end{bmatrix}&\\qquad\n",
    "      \\begin{bmatrix}\n",
    "        0.& 0.& 0.& 0.& 0.\\\\\n",
    "        2.& 0.& 0.& 0.& 0.\\\\\n",
    "        0.& 3.& 0.& 0.& 0.\\\\\n",
    "        0.& 0.& 4.& 0.& 0.\\\\\n",
    "        0.& 0.& 0.& 5.& 0.\\\\\n",
    "        0.& 0.& 0.& 0.& 6.\\\\\n",
    "      \\end{bmatrix}\n",
    "    \\end{align*}\n",
    "\n",
    "    Dans le second cas, on pourra s'aider de la méthode `diag`"
   ]
  },
  {
   "cell_type": "code",
   "execution_count": 3,
   "metadata": {
    "tags": [
     "correction"
    ]
   },
   "outputs": [
    {
     "data": {
      "text/plain": [
       "array([[1., 1., 1., 1.],\n",
       "       [1., 1., 1., 1.],\n",
       "       [1., 1., 1., 2.],\n",
       "       [1., 6., 1., 1.]])"
      ]
     },
     "execution_count": 3,
     "metadata": {},
     "output_type": "execute_result"
    }
   ],
   "source": [
    "M = np.ones((4, 4))\n",
    "M[2, 3] = 2\n",
    "M[3, 1] = 6\n",
    "M"
   ]
  },
  {
   "cell_type": "code",
   "execution_count": 4,
   "metadata": {
    "tags": [
     "correction"
    ]
   },
   "outputs": [
    {
     "data": {
      "text/plain": [
       "array([[0, 0, 0, 0, 0],\n",
       "       [2, 0, 0, 0, 0],\n",
       "       [0, 3, 0, 0, 0],\n",
       "       [0, 0, 4, 0, 0],\n",
       "       [0, 0, 0, 5, 0],\n",
       "       [0, 0, 0, 0, 6]])"
      ]
     },
     "execution_count": 4,
     "metadata": {},
     "output_type": "execute_result"
    }
   ],
   "source": [
    "M = np.diag([2, 3, 4, 5, 6], k=-1)\n",
    "M = M[:, :5]\n",
    "M"
   ]
  },
  {
   "cell_type": "markdown",
   "metadata": {},
   "source": [
    "- En utilisant la méthode `tile`, reproduire la matrice suivante à l'aide d'une seule commande\n",
    "\n",
    "$$\n",
    "    \\begin{bmatrix}\n",
    "        4& 3& 4& 3& 4& 3\\\\\n",
    "        2& 1& 2& 1& 2& 1\\\\\n",
    "        4& 3& 4& 3& 4& 3\\\\\n",
    "        2& 1& 2& 1& 2& 1\\\\\n",
    "    \\end{bmatrix}\n",
    "$$"
   ]
  },
  {
   "cell_type": "code",
   "execution_count": 5,
   "metadata": {
    "tags": [
     "correction"
    ]
   },
   "outputs": [
    {
     "data": {
      "text/plain": [
       "array([[4, 3, 4, 3, 4, 3],\n",
       "       [2, 1, 2, 1, 2, 1],\n",
       "       [4, 3, 4, 3, 4, 3],\n",
       "       [2, 1, 2, 1, 2, 1]])"
      ]
     },
     "execution_count": 5,
     "metadata": {},
     "output_type": "execute_result"
    }
   ],
   "source": [
    "M = np.tile([[4, 3], [2, 1]], (2, 3))\n",
    "M"
   ]
  },
  {
   "cell_type": "markdown",
   "metadata": {},
   "source": [
    "---"
   ]
  },
  {
   "cell_type": "markdown",
   "metadata": {},
   "source": [
    "## Fonctions universelles"
   ]
  },
  {
   "cell_type": "markdown",
   "metadata": {},
   "source": [
    "- Créer un tableau à une dimension contenant 1 million de valeurs entières aléatoirement réparties entre 1 et 100"
   ]
  },
  {
   "cell_type": "code",
   "execution_count": 6,
   "metadata": {
    "tags": [
     "correction"
    ]
   },
   "outputs": [],
   "source": [
    "v = np.random.randint(1, 100, 1000000)"
   ]
  },
  {
   "cell_type": "markdown",
   "metadata": {},
   "source": [
    "- Créer une fonction `inverse` qui retournera un second tableau résultat de l'opération d'inversion ($1/x$) du premier tableau"
   ]
  },
  {
   "cell_type": "code",
   "execution_count": 7,
   "metadata": {
    "tags": [
     "correction"
    ]
   },
   "outputs": [],
   "source": [
    "def inverse(values):\n",
    "    output = np.empty(len(values))\n",
    "    for i in range(len(values)):\n",
    "        output[i] = 1.0 / values[i]\n",
    "    return output"
   ]
  },
  {
   "cell_type": "markdown",
   "metadata": {},
   "source": [
    "- À l'aide de la fonction intégrée `%timeit`, estimer le temps moyen nécessaire à l'exécution de la fonction `inverse`"
   ]
  },
  {
   "cell_type": "code",
   "execution_count": 8,
   "metadata": {
    "tags": [
     "correction"
    ]
   },
   "outputs": [
    {
     "name": "stdout",
     "output_type": "stream",
     "text": [
      "1.33 s ± 68.9 ms per loop (mean ± std. dev. of 7 runs, 1 loop each)\n"
     ]
    }
   ],
   "source": [
    "%timeit inverse(v)"
   ]
  },
  {
   "cell_type": "markdown",
   "metadata": {},
   "source": [
    "- Estimer ce même temps d'exécution, en utilisant l'opérateur division"
   ]
  },
  {
   "cell_type": "code",
   "execution_count": 9,
   "metadata": {
    "tags": [
     "correction"
    ]
   },
   "outputs": [
    {
     "name": "stdout",
     "output_type": "stream",
     "text": [
      "1.44 ms ± 66.2 µs per loop (mean ± std. dev. of 7 runs, 1000 loops each)\n"
     ]
    }
   ],
   "source": [
    "%timeit 1/v"
   ]
  },
  {
   "cell_type": "markdown",
   "metadata": {},
   "source": [
    "---"
   ]
  },
  {
   "cell_type": "markdown",
   "metadata": {},
   "source": [
    "## Sale temps sur Seattle\n",
    "\n",
    "- Télécharger le fichier [`seattle2014.csv`](https://raw.githubusercontent.com/xgarrido/master_python_teaching/master/td/data/seattle2014.csv) qui contient pour chaque jour de l'année 2014 (colonne 1), la hauteur des précipitations exprimé en dixième de millimètres (colonne 2) ainsi que les températures maximale (colonne 3) et minimale (colonne 4), exprimées en dixième de degrés Celsius, à Seattle."
   ]
  },
  {
   "cell_type": "code",
   "execution_count": 10,
   "metadata": {
    "tags": [
     "correction"
    ]
   },
   "outputs": [],
   "source": [
    "data = np.loadtxt(\"data/seattle2014.csv\", delimiter=\",\")\n",
    "\n",
    "day = data[:, 0]\n",
    "prcp = data[:, 1] / 100  # cm\n",
    "Tmax = data[:, 2] / 10  # °C\n",
    "Tmin = data[:, 3] / 10  # °C"
   ]
  },
  {
   "cell_type": "markdown",
   "metadata": {},
   "source": [
    "- Charger l'ensemble des données dans un tableau `numpy` en prenant bien garde au caractère délimitant chaque champ puis, après avoir converti la hauteur des précipitations en centimètres et les températures en degré Celsius, calculer les valeurs suivantes sur chacune des données du fichier (hauteur des précipitations, $T_\\text{min}$ et $T_\\text{max}$) :\n",
    "\n",
    "  1. moyenne, médiane et écart type\n",
    "  2. valeurs minimale et maximale\n",
    "  3. les quantiles à 25% et 75%"
   ]
  },
  {
   "cell_type": "code",
   "execution_count": 11,
   "metadata": {
    "tags": [
     "correction"
    ]
   },
   "outputs": [
    {
     "name": "stdout",
     "output_type": "stream",
     "text": [
      "- Valeurs annuelles\n",
      "Hauteur des précipitations:\n",
      "  valeur moyenne = 0.34 cm\n",
      "  valeur médiane = 0.00 cm\n",
      "      écart type = 0.68 cm\n",
      "     valeur min. = 0.00 cm\n",
      "     valeur max. = 4.67 cm\n",
      "  quantile à 25% = 0.00 cm\n",
      "  quantile à 75% = 0.36 cm\n",
      "\n",
      "\n",
      "Température minimale:\n",
      "  valeur moyenne = 8.66 °C\n",
      "  valeur médiane = 9.40 °C\n",
      "      écart type = 4.97 °C\n",
      "     valeur min. = -6.00 °C\n",
      "     valeur max. = 17.80 °C\n",
      "  quantile à 25% = 5.60 °C\n",
      "  quantile à 75% = 12.80 °C\n",
      "\n",
      "\n",
      "Température maximale:\n",
      "  valeur moyenne = 17.00 °C\n",
      "  valeur médiane = 16.10 °C\n",
      "      écart type = 7.26 °C\n",
      "     valeur min. = -1.60 °C\n",
      "     valeur max. = 35.60 °C\n",
      "  quantile à 25% = 11.10 °C\n",
      "  quantile à 75% = 22.20 °C\n",
      "\n",
      "\n"
     ]
    }
   ],
   "source": [
    "def print_report(prcp, Tmin, Tmax):\n",
    "    print(\"Hauteur des précipitations:\")\n",
    "    print(\"  valeur moyenne = {:.2f} cm\".format(np.mean(prcp)))\n",
    "    print(\"  valeur médiane = {:.2f} cm\".format(np.median(prcp)))\n",
    "    print(\"      écart type = {:.2f} cm\".format(np.std(prcp)))\n",
    "    print(\"     valeur min. = {:.2f} cm\".format(np.min(prcp)))\n",
    "    print(\"     valeur max. = {:.2f} cm\".format(np.max(prcp)))\n",
    "    print(\"  quantile à 25% = {:.2f} cm\".format(np.percentile(prcp, 25)))\n",
    "    print(\"  quantile à 75% = {:.2f} cm\".format(np.percentile(prcp, 75)))\n",
    "    print(\"\\n\")\n",
    "\n",
    "    print(\"Température minimale:\")\n",
    "    print(\"  valeur moyenne = {:.2f} °C\".format(np.mean(Tmin)))\n",
    "    print(\"  valeur médiane = {:.2f} °C\".format(np.median(Tmin)))\n",
    "    print(\"      écart type = {:.2f} °C\".format(np.std(Tmin)))\n",
    "    print(\"     valeur min. = {:.2f} °C\".format(np.min(Tmin)))\n",
    "    print(\"     valeur max. = {:.2f} °C\".format(np.max(Tmin)))\n",
    "    print(\"  quantile à 25% = {:.2f} °C\".format(np.percentile(Tmin, 25)))\n",
    "    print(\"  quantile à 75% = {:.2f} °C\".format(np.percentile(Tmin, 75)))\n",
    "    print(\"\\n\")\n",
    "\n",
    "    print(\"Température maximale:\")\n",
    "    print(\"  valeur moyenne = {:.2f} °C\".format(np.mean(Tmax)))\n",
    "    print(\"  valeur médiane = {:.2f} °C\".format(np.median(Tmax)))\n",
    "    print(\"      écart type = {:.2f} °C\".format(np.std(Tmax)))\n",
    "    print(\"     valeur min. = {:.2f} °C\".format(np.min(Tmax)))\n",
    "    print(\"     valeur max. = {:.2f} °C\".format(np.max(Tmax)))\n",
    "    print(\"  quantile à 25% = {:.2f} °C\".format(np.percentile(Tmax, 25)))\n",
    "    print(\"  quantile à 75% = {:.2f} °C\".format(np.percentile(Tmax, 75)))\n",
    "    print(\"\\n\")\n",
    "\n",
    "\n",
    "print(\"- Valeurs annuelles\")\n",
    "print_report(prcp, Tmin, Tmax)"
   ]
  },
  {
   "cell_type": "markdown",
   "metadata": {},
   "source": [
    "- Afficher les valeurs ci-dessus pour la période estivale"
   ]
  },
  {
   "cell_type": "code",
   "execution_count": 12,
   "metadata": {
    "tags": [
     "correction"
    ]
   },
   "outputs": [
    {
     "name": "stdout",
     "output_type": "stream",
     "text": [
      "- Valeurs estivales\n",
      "Hauteur des précipitations:\n",
      "  valeur moyenne = 0.18 cm\n",
      "  valeur médiane = 0.00 cm\n",
      "      écart type = 0.48 cm\n",
      "     valeur min. = 0.00 cm\n",
      "     valeur max. = 3.33 cm\n",
      "  quantile à 25% = 0.00 cm\n",
      "  quantile à 75% = 0.03 cm\n",
      "\n",
      "\n",
      "Température minimale:\n",
      "  valeur moyenne = 11.92 °C\n",
      "  valeur médiane = 12.80 °C\n",
      "      écart type = 3.13 °C\n",
      "     valeur min. = 4.40 °C\n",
      "     valeur max. = 17.80 °C\n",
      "  quantile à 25% = 10.00 °C\n",
      "  quantile à 75% = 14.40 °C\n",
      "\n",
      "\n",
      "Température maximale:\n",
      "  valeur moyenne = 22.32 °C\n",
      "  valeur médiane = 22.20 °C\n",
      "      écart type = 5.43 °C\n",
      "     valeur min. = 11.10 °C\n",
      "     valeur max. = 35.60 °C\n",
      "  quantile à 25% = 18.90 °C\n",
      "  quantile à 75% = 26.10 °C\n",
      "\n",
      "\n"
     ]
    }
   ],
   "source": [
    "print(\"- Valeurs estivales\")\n",
    "summer = (day > 20140401) & (day < 20140930)\n",
    "print_report(prcp[summer], Tmin[summer], Tmax[summer])"
   ]
  },
  {
   "cell_type": "markdown",
   "metadata": {},
   "source": [
    "- Calculer la hauteur totale d'eau tombée à Seattle en 2014"
   ]
  },
  {
   "cell_type": "code",
   "execution_count": 13,
   "metadata": {
    "tags": [
     "correction"
    ]
   },
   "outputs": [
    {
     "name": "stdout",
     "output_type": "stream",
     "text": [
      "Hauteur totale d'eau en 2014 : 123.28 cm\n"
     ]
    }
   ],
   "source": [
    "print(\"Hauteur totale d'eau en 2014 : {} cm\".format(np.sum(prcp)))"
   ]
  },
  {
   "cell_type": "markdown",
   "metadata": {},
   "source": [
    "- Dénombrer le nombre total de jours dans l'année pendant lesquels il a plu à Seattle et déterminer combien de ces jours étaient pairs"
   ]
  },
  {
   "cell_type": "code",
   "execution_count": 14,
   "metadata": {
    "tags": [
     "correction"
    ]
   },
   "outputs": [
    {
     "name": "stdout",
     "output_type": "stream",
     "text": [
      "Nombre de jours pairs avec pluie : 71\n"
     ]
    }
   ],
   "source": [
    "print(\"Nombre de jours pairs avec pluie : {}\".format(np.sum((prcp > 0) & (day % 2 == 0))))"
   ]
  }
 ],
 "metadata": {
  "kernelspec": {
   "display_name": "Python 3 (ipykernel)",
   "language": "python",
   "name": "python3"
  },
  "language_info": {
   "codemirror_mode": {
    "name": "ipython",
    "version": 3
   },
   "file_extension": ".py",
   "mimetype": "text/x-python",
   "name": "python",
   "nbconvert_exporter": "python",
   "pygments_lexer": "ipython3",
   "version": "3.10.2"
  },
  "toc-autonumbering": false,
  "widgets": {
   "application/vnd.jupyter.widget-state+json": {
    "state": {},
    "version_major": 2,
    "version_minor": 0
   }
  }
 },
 "nbformat": 4,
 "nbformat_minor": 4
}
